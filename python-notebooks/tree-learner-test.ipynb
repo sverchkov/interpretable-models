{
 "cells": [
  {
   "cell_type": "markdown",
   "metadata": {},
   "source": [
    "# Tree-based explanation example\n",
    "\n",
    "A demonstration of the tree explanation method on the UCI Breast Cancer Wisconsin dataset"
   ]
  },
  {
   "cell_type": "code",
   "execution_count": 18,
   "metadata": {},
   "outputs": [],
   "source": [
    "# Import Modules\n",
    "import numpy as np\n",
    "from sklearn.datasets import load_breast_cancer\n",
    "from sklearn.model_selection import train_test_split\n",
    "from sklearn.ensemble import RandomForestClassifier\n",
    "from sklearn.tree import DecisionTreeClassifier, plot_tree\n",
    "from sklearn.metrics import classification_report\n",
    "from generalizedtrees.trepanlike import make_trepanlike_classifier\n",
    "from generalizedtrees.sampling import gaussian_rejection_sample\n",
    "from generalizedtrees.core import test_all_x"
   ]
  },
  {
   "cell_type": "code",
   "execution_count": 2,
   "metadata": {},
   "outputs": [],
   "source": [
    "# Initialize testing and training data\n",
    "\n",
    "np.random.seed(20200508)\n",
    "\n",
    "data = load_breast_cancer()\n",
    "\n",
    "features_train, features_test, target_train, target_test = \\\n",
    "    train_test_split(data.data, data.target, test_size=0.3, stratify = data.target)"
   ]
  },
  {
   "cell_type": "markdown",
   "metadata": {},
   "source": [
    "The black-box is going to be a random forest.\n",
    "\n"
   ]
  },
  {
   "cell_type": "code",
   "execution_count": 3,
   "metadata": {},
   "outputs": [
    {
     "output_type": "execute_result",
     "data": {
      "text/plain": "RandomForestClassifier(bootstrap=True, ccp_alpha=0.0, class_weight=None,\n                       criterion='gini', max_depth=None, max_features='auto',\n                       max_leaf_nodes=None, max_samples=None,\n                       min_impurity_decrease=0.0, min_impurity_split=None,\n                       min_samples_leaf=1, min_samples_split=2,\n                       min_weight_fraction_leaf=0.0, n_estimators=500,\n                       n_jobs=None, oob_score=False, random_state=None,\n                       verbose=0, warm_start=False)"
     },
     "metadata": {},
     "execution_count": 3
    }
   ],
   "source": [
    "rf = RandomForestClassifier(n_estimators=500)\n",
    "rf.fit(features_train, target_train)"
   ]
  },
  {
   "cell_type": "code",
   "execution_count": 4,
   "metadata": {},
   "outputs": [
    {
     "output_type": "stream",
     "name": "stdout",
     "text": "precision    recall  f1-score   support\n\n           0       0.97      0.97      0.97        64\n           1       0.98      0.98      0.98       107\n\n    accuracy                           0.98       171\n   macro avg       0.98      0.98      0.98       171\nweighted avg       0.98      0.98      0.98       171\n\n"
    }
   ],
   "source": [
    "# Random forest classification performance:\n",
    "print(classification_report(target_test, rf.predict(features_test)))"
   ]
  },
  {
   "cell_type": "markdown",
   "metadata": {},
   "source": [
    "We also learn a regular decision tree:"
   ]
  },
  {
   "cell_type": "code",
   "execution_count": 5,
   "metadata": {},
   "outputs": [
    {
     "output_type": "execute_result",
     "data": {
      "text/plain": "DecisionTreeClassifier(ccp_alpha=0.0, class_weight=None, criterion='gini',\n                       max_depth=None, max_features=None, max_leaf_nodes=None,\n                       min_impurity_decrease=0.0, min_impurity_split=None,\n                       min_samples_leaf=1, min_samples_split=2,\n                       min_weight_fraction_leaf=0.0, presort='deprecated',\n                       random_state=None, splitter='best')"
     },
     "metadata": {},
     "execution_count": 5
    }
   ],
   "source": [
    "# Learn tree\n",
    "dtree = DecisionTreeClassifier()\n",
    "dtree.fit(features_train, target_train)"
   ]
  },
  {
   "cell_type": "code",
   "execution_count": 6,
   "metadata": {},
   "outputs": [
    {
     "output_type": "stream",
     "name": "stdout",
     "text": "precision    recall  f1-score   support\n\n           0       0.91      0.94      0.92        64\n           1       0.96      0.94      0.95       107\n\n    accuracy                           0.94       171\n   macro avg       0.94      0.94      0.94       171\nweighted avg       0.94      0.94      0.94       171\n\n"
    }
   ],
   "source": [
    "# Decision tree classification performance:\n",
    "print(classification_report(target_test, dtree.predict(features_test)))"
   ]
  },
  {
   "cell_type": "markdown",
   "metadata": {},
   "source": [
    "Explanation model for the data (fitting to the forest)"
   ]
  },
  {
   "cell_type": "code",
   "execution_count": 24,
   "metadata": {},
   "outputs": [],
   "source": [
    "# Constrained generator, local:\n",
    "def local_constrained_generator(n, constraints):\n",
    "    tester = test_all_x(constraints)\n",
    "    passing_samples = features_train[np.apply_along_axis(tester, 1, features_train)]\n",
    "    means = np.mean(passing_samples, axis=0, keepdims=True)[0]\n",
    "    sds = np.std(passing_samples, axis=0, keepdims=True)[0]\n",
    "\n",
    "    return gaussian_rejection_sample(means, sds, n, constraints)"
   ]
  },
  {
   "cell_type": "code",
   "execution_count": 11,
   "metadata": {},
   "outputs": [
    {
     "output_type": "execute_result",
     "data": {
      "text/plain": "Tree: (None: [([21]<=33.4377831759953: [([24]<=0.09812917132564093: [([28]<=0.3045044248313924: [([19]<=0.003359373777158404: [([27]<=0.1201280077649357: Predict: [1]), ([27]>0.1201280077649357: Predict: [0])]), ([19]>0.003359373777158404: [([20]<=15.485980279148066: Predict: [0]), ([20]>15.485980279148066: Predict: [0])])]), ([28]>0.3045044248313924: [([27]<=0.22717031243135738: [([27]<=0.21677927058979218: Predict: [0]), ([27]>0.21677927058979218: Predict: [0])]), ([27]>0.22717031243135738: [([16]<=0.08158985186219958: Predict: [0]), ([16]>0.08158985186219958: Predict: [0])])])]), ([24]>0.09812917132564093: [([9]<=0.05207297625781396: [([24]<=0.09890610854269627: [([27]<=0.06756550666546102: Predict: [0]), ([27]>0.06756550666546102: Predict: [0])]), ([24]>0.09890610854269627: [([27]<=0.18686542538204376: Predict: [0]), ([27]>0.18686542538204376: Predict: [0])])]), ([9]>0.05207297625781396: [([27]<=0.1760035743506675: [([27]<=0.17310423018413673: Predict: [0]), ([27]>0.17310423018413673: Predict: [0])]), ([27]>0.1760035743506675: [([16]<=0.05201836251443116: Predict: [0]), ([16]>0.05201836251443116: Predict: [0])])])])]), ([21]>33.4377831759953: [([27]<=0.17169718579679272: [([27]<=0.1473658728888515: [([22]<=186.17600566416456: [([23]<=1767.917807063804: Predict: [0]), ([23]>1767.917807063804: Predict: [0])]), ([22]>186.17600566416456: [([6]<=0.13180023971483376: Predict: [0]), ([6]>0.13180023971483376: Predict: [0])])]), ([27]>0.1473658728888515: [([11]<=1.4360025789016588: [([16]<=0.024182702069920223: Predict: [0]), ([16]>0.024182702069920223: Predict: [0])]), ([11]>1.4360025789016588: [([15]<=0.012540090387964983: Predict: [0]), ([15]>0.012540090387964983: Predict: [0])])])]), ([27]>0.17169718579679272: Predict: [0])])])"
     },
     "metadata": {},
     "execution_count": 11
    }
   ],
   "source": [
    "# Generator\n",
    "feature_means = np.mean(features_train, 0)\n",
    "feature_sds = np.std(features_train, 0)\n",
    "\n",
    "constrained_generator = lambda n, constraints: gaussian_rejection_sample(feature_means, feature_sds, n, constraints)\n",
    "\n",
    "# Explainer\n",
    "Explainer = make_trepanlike_classifier(rf, constrained_generator=constrained_generator)\n",
    "\n",
    "etree = Explainer()\n",
    "etree.build()\n",
    "etree"
   ]
  },
  {
   "cell_type": "code",
   "execution_count": 12,
   "metadata": {},
   "outputs": [
    {
     "output_type": "stream",
     "name": "stdout",
     "text": "precision    recall  f1-score   support\n\n           0       0.39      1.00      0.56        64\n           1       1.00      0.07      0.12       107\n\n    accuracy                           0.42       171\n   macro avg       0.70      0.53      0.34       171\nweighted avg       0.77      0.42      0.29       171\n\n"
    }
   ],
   "source": [
    "# Explanation tree classification performance:\n",
    "print(classification_report(target_test, etree.predict(features_test)))"
   ]
  },
  {
   "cell_type": "code",
   "execution_count": 13,
   "metadata": {},
   "outputs": [
    {
     "output_type": "stream",
     "name": "stdout",
     "text": "precision    recall  f1-score   support\n\n           0       0.38      0.98      0.55        64\n           1       0.86      0.06      0.11       107\n\n    accuracy                           0.40       171\n   macro avg       0.62      0.52      0.33       171\nweighted avg       0.68      0.40      0.27       171\n\n"
    }
   ],
   "source": [
    "# Explanation tree fidelity performance:\n",
    "print(classification_report(rf.predict(features_test), etree.predict(features_test)))"
   ]
  },
  {
   "cell_type": "code",
   "execution_count": 23,
   "metadata": {},
   "outputs": [
    {
     "output_type": "error",
     "ename": "IndexError",
     "evalue": "boolean index did not match indexed array along dimension 0; dimension is 398 but corresponding boolean dimension is 30",
     "traceback": [
      "\u001b[0;31m---------------------------------------------------------------------------\u001b[0m",
      "\u001b[0;31mIndexError\u001b[0m                                Traceback (most recent call last)",
      "\u001b[0;32m<ipython-input-23-77c6c9822430>\u001b[0m in \u001b[0;36m<module>\u001b[0;34m\u001b[0m\n\u001b[1;32m      3\u001b[0m \u001b[0;34m\u001b[0m\u001b[0m\n\u001b[1;32m      4\u001b[0m \u001b[0me2tree\u001b[0m \u001b[0;34m=\u001b[0m \u001b[0mExplainer2\u001b[0m\u001b[0;34m(\u001b[0m\u001b[0;34m)\u001b[0m\u001b[0;34m\u001b[0m\u001b[0m\n\u001b[0;32m----> 5\u001b[0;31m \u001b[0me2tree\u001b[0m\u001b[0;34m.\u001b[0m\u001b[0mbuild\u001b[0m\u001b[0;34m(\u001b[0m\u001b[0;34m)\u001b[0m\u001b[0;34m\u001b[0m\u001b[0m\n\u001b[0m\u001b[1;32m      6\u001b[0m \u001b[0me2tree\u001b[0m\u001b[0;34m\u001b[0m\u001b[0m\n",
      "\u001b[0;32m~/interpretable-models/venv/lib/python3.6/site-packages/generalizedtrees/core.py\u001b[0m in \u001b[0;36mbuild\u001b[0;34m(self)\u001b[0m\n\u001b[1;32m    156\u001b[0m         \u001b[0;32mwhile\u001b[0m \u001b[0mnodes\u001b[0m\u001b[0;34m:\u001b[0m\u001b[0;34m\u001b[0m\u001b[0m\n\u001b[1;32m    157\u001b[0m             \u001b[0mparent\u001b[0m \u001b[0;34m=\u001b[0m \u001b[0mnodes\u001b[0m\u001b[0;34m.\u001b[0m\u001b[0mpop\u001b[0m\u001b[0;34m(\u001b[0m\u001b[0;34m)\u001b[0m\u001b[0;34m\u001b[0m\u001b[0m\n\u001b[0;32m--> 158\u001b[0;31m             \u001b[0msplit\u001b[0m \u001b[0;34m=\u001b[0m \u001b[0mself\u001b[0m\u001b[0;34m.\u001b[0m\u001b[0mbest_split_of_node\u001b[0m\u001b[0;34m(\u001b[0m\u001b[0mparent\u001b[0m\u001b[0;34m)\u001b[0m\u001b[0;34m\u001b[0m\u001b[0m\n\u001b[0m\u001b[1;32m    159\u001b[0m \u001b[0;34m\u001b[0m\u001b[0m\n\u001b[1;32m    160\u001b[0m             \u001b[0mlogger\u001b[0m\u001b[0;34m.\u001b[0m\u001b[0mlog\u001b[0m\u001b[0;34m(\u001b[0m\u001b[0;36m5\u001b[0m\u001b[0;34m,\u001b[0m \u001b[0;34mf'building: {self}'\u001b[0m\u001b[0;34m)\u001b[0m\u001b[0;34m\u001b[0m\u001b[0m\n",
      "\u001b[0;32m~/interpretable-models/venv/lib/python3.6/site-packages/generalizedtrees/core.py\u001b[0m in \u001b[0;36mbest_split_of_node\u001b[0;34m(self, node)\u001b[0m\n\u001b[1;32m    144\u001b[0m \u001b[0;34m\u001b[0m\u001b[0m\n\u001b[1;32m    145\u001b[0m     \u001b[0;32mdef\u001b[0m \u001b[0mbest_split_of_node\u001b[0m\u001b[0;34m(\u001b[0m\u001b[0mself\u001b[0m\u001b[0;34m,\u001b[0m \u001b[0mnode\u001b[0m\u001b[0;34m:\u001b[0m \u001b[0mNode\u001b[0m\u001b[0;34m)\u001b[0m\u001b[0;34m:\u001b[0m\u001b[0;34m\u001b[0m\u001b[0m\n\u001b[0;32m--> 146\u001b[0;31m         \u001b[0;32mreturn\u001b[0m \u001b[0mself\u001b[0m\u001b[0;34m.\u001b[0m\u001b[0mbest_split\u001b[0m\u001b[0;34m(\u001b[0m\u001b[0mnode\u001b[0m\u001b[0;34m.\u001b[0m\u001b[0mall_constraints\u001b[0m\u001b[0;34m)\u001b[0m\u001b[0;34m\u001b[0m\u001b[0m\n\u001b[0m\u001b[1;32m    147\u001b[0m \u001b[0;34m\u001b[0m\u001b[0m\n\u001b[1;32m    148\u001b[0m     \u001b[0;32mdef\u001b[0m \u001b[0mleaf_predictor_of_node\u001b[0m\u001b[0;34m(\u001b[0m\u001b[0mself\u001b[0m\u001b[0;34m,\u001b[0m \u001b[0mnode\u001b[0m\u001b[0;34m:\u001b[0m \u001b[0mNode\u001b[0m\u001b[0;34m)\u001b[0m\u001b[0;34m:\u001b[0m\u001b[0;34m\u001b[0m\u001b[0m\n",
      "\u001b[0;32m~/interpretable-models/venv/lib/python3.6/site-packages/generalizedtrees/trepanlike.py\u001b[0m in \u001b[0;36mbest_split\u001b[0;34m(self, constraints)\u001b[0m\n\u001b[1;32m     60\u001b[0m             \u001b[0;32mif\u001b[0m \u001b[0mlen\u001b[0m\u001b[0;34m(\u001b[0m\u001b[0mconstraints\u001b[0m\u001b[0;34m)\u001b[0m \u001b[0;34m<\u001b[0m \u001b[0mself\u001b[0m\u001b[0;34m.\u001b[0m\u001b[0mmax_depth\u001b[0m\u001b[0;34m:\u001b[0m\u001b[0;34m\u001b[0m\u001b[0m\n\u001b[1;32m     61\u001b[0m \u001b[0;34m\u001b[0m\u001b[0m\n\u001b[0;32m---> 62\u001b[0;31m                 \u001b[0mfeatures\u001b[0m\u001b[0;34m,\u001b[0m \u001b[0mtargets\u001b[0m \u001b[0;34m=\u001b[0m \u001b[0mself\u001b[0m\u001b[0;34m.\u001b[0m\u001b[0moracle_sample\u001b[0m\u001b[0;34m(\u001b[0m\u001b[0mconstraints\u001b[0m\u001b[0;34m)\u001b[0m\u001b[0;34m\u001b[0m\u001b[0m\n\u001b[0m\u001b[1;32m     63\u001b[0m \u001b[0;34m\u001b[0m\u001b[0m\n\u001b[1;32m     64\u001b[0m                 \u001b[0mbest_score\u001b[0m \u001b[0;34m=\u001b[0m \u001b[0mself\u001b[0m\u001b[0;34m.\u001b[0m\u001b[0mscore\u001b[0m\u001b[0;34m(\u001b[0m\u001b[0mtargets\u001b[0m\u001b[0;34m)\u001b[0m\u001b[0;34m\u001b[0m\u001b[0m\n",
      "\u001b[0;32m~/interpretable-models/venv/lib/python3.6/site-packages/generalizedtrees/trepanlike.py\u001b[0m in \u001b[0;36moracle_sample\u001b[0;34m(self, constraints, n)\u001b[0m\n\u001b[1;32m     50\u001b[0m                 \u001b[0mn\u001b[0m \u001b[0;34m=\u001b[0m \u001b[0mself\u001b[0m\u001b[0;34m.\u001b[0m\u001b[0ms_min\u001b[0m\u001b[0;34m\u001b[0m\u001b[0m\n\u001b[1;32m     51\u001b[0m \u001b[0;34m\u001b[0m\u001b[0m\n\u001b[0;32m---> 52\u001b[0;31m             \u001b[0mdata\u001b[0m \u001b[0;34m=\u001b[0m \u001b[0mconstrained_generator\u001b[0m\u001b[0;34m(\u001b[0m\u001b[0mn\u001b[0m\u001b[0;34m,\u001b[0m \u001b[0mconstraints\u001b[0m\u001b[0;34m)\u001b[0m\u001b[0;34m\u001b[0m\u001b[0m\n\u001b[0m\u001b[1;32m     53\u001b[0m \u001b[0;34m\u001b[0m\u001b[0m\n\u001b[1;32m     54\u001b[0m             \u001b[0;32mreturn\u001b[0m \u001b[0mdata\u001b[0m\u001b[0;34m,\u001b[0m \u001b[0mclassifier\u001b[0m\u001b[0;34m.\u001b[0m\u001b[0mpredict\u001b[0m\u001b[0;34m(\u001b[0m\u001b[0mdata\u001b[0m\u001b[0;34m)\u001b[0m\u001b[0;34m\u001b[0m\u001b[0m\n",
      "\u001b[0;32m<ipython-input-22-288ad06de055>\u001b[0m in \u001b[0;36mlocal_constrained_generator\u001b[0;34m(n, constraints)\u001b[0m\n\u001b[1;32m      2\u001b[0m \u001b[0;32mdef\u001b[0m \u001b[0mlocal_constrained_generator\u001b[0m\u001b[0;34m(\u001b[0m\u001b[0mn\u001b[0m\u001b[0;34m,\u001b[0m \u001b[0mconstraints\u001b[0m\u001b[0;34m)\u001b[0m\u001b[0;34m:\u001b[0m\u001b[0;34m\u001b[0m\u001b[0m\n\u001b[1;32m      3\u001b[0m     \u001b[0mtester\u001b[0m \u001b[0;34m=\u001b[0m \u001b[0mtest_all_x\u001b[0m\u001b[0;34m(\u001b[0m\u001b[0mconstraints\u001b[0m\u001b[0;34m)\u001b[0m\u001b[0;34m\u001b[0m\u001b[0m\n\u001b[0;32m----> 4\u001b[0;31m     \u001b[0mpassing_samples\u001b[0m \u001b[0;34m=\u001b[0m \u001b[0mfeatures_train\u001b[0m\u001b[0;34m[\u001b[0m\u001b[0mnp\u001b[0m\u001b[0;34m.\u001b[0m\u001b[0mapply_along_axis\u001b[0m\u001b[0;34m(\u001b[0m\u001b[0mtester\u001b[0m\u001b[0;34m,\u001b[0m \u001b[0;36m0\u001b[0m\u001b[0;34m,\u001b[0m \u001b[0mfeatures_train\u001b[0m\u001b[0;34m)\u001b[0m\u001b[0;34m]\u001b[0m\u001b[0;34m\u001b[0m\u001b[0m\n\u001b[0m\u001b[1;32m      5\u001b[0m     \u001b[0mmeans\u001b[0m \u001b[0;34m=\u001b[0m \u001b[0mnp\u001b[0m\u001b[0;34m.\u001b[0m\u001b[0mmean\u001b[0m\u001b[0;34m(\u001b[0m\u001b[0mpassing_samples\u001b[0m\u001b[0;34m,\u001b[0m \u001b[0maxis\u001b[0m\u001b[0;34m=\u001b[0m\u001b[0;36m0\u001b[0m\u001b[0;34m,\u001b[0m \u001b[0mkeepdims\u001b[0m\u001b[0;34m=\u001b[0m\u001b[0;32mTrue\u001b[0m\u001b[0;34m)\u001b[0m\u001b[0;34m[\u001b[0m\u001b[0;36m0\u001b[0m\u001b[0;34m]\u001b[0m\u001b[0;34m\u001b[0m\u001b[0m\n\u001b[1;32m      6\u001b[0m     \u001b[0msds\u001b[0m \u001b[0;34m=\u001b[0m \u001b[0mnp\u001b[0m\u001b[0;34m.\u001b[0m\u001b[0mstd\u001b[0m\u001b[0;34m(\u001b[0m\u001b[0mpassing_samples\u001b[0m\u001b[0;34m,\u001b[0m \u001b[0maxis\u001b[0m\u001b[0;34m=\u001b[0m\u001b[0;36m0\u001b[0m\u001b[0;34m,\u001b[0m \u001b[0mkeepdims\u001b[0m\u001b[0;34m=\u001b[0m\u001b[0;32mTrue\u001b[0m\u001b[0;34m)\u001b[0m\u001b[0;34m[\u001b[0m\u001b[0;36m0\u001b[0m\u001b[0;34m]\u001b[0m\u001b[0;34m\u001b[0m\u001b[0m\n",
      "\u001b[0;31mIndexError\u001b[0m: boolean index did not match indexed array along dimension 0; dimension is 398 but corresponding boolean dimension is 30"
     ]
    }
   ],
   "source": [
    "# Tree with local constrained generator\n",
    "Explainer2 = make_trepanlike_classifier(rf, constrained_generator=local_constrained_generator)\n",
    "\n",
    "e2tree = Explainer2()\n",
    "e2tree.build()\n",
    "e2tree"
   ]
  },
  {
   "cell_type": "code",
   "execution_count": null,
   "metadata": {},
   "outputs": [],
   "source": [
    "# Explanation tree classification performance:\n",
    "print(\"Classification\")\n",
    "print(classification_report(target_test, etree.predict(features_test)))\n",
    "\n",
    "# Explanation tree fidelity performance:\n",
    "print(\"Fidelity\")\n",
    "print(classification_report(rf.predict(features_test), etree.predict(features_test)))"
   ]
  },
  {
   "cell_type": "markdown",
   "metadata": {},
   "source": [
    "* Get RF performance on test set\n",
    "* Get explainer performance on test set\n",
    "* Get decision tree performance on test set\n",
    "* Get fidelity measurement"
   ]
  }
 ],
 "metadata": {
  "language_info": {
   "codemirror_mode": {
    "name": "ipython",
    "version": 3
   },
   "file_extension": ".py",
   "mimetype": "text/x-python",
   "name": "python",
   "nbconvert_exporter": "python",
   "pygments_lexer": "ipython3",
   "version": "3.6.5-final"
  },
  "orig_nbformat": 2,
  "kernelspec": {
   "name": "python36564bitvenvvenv913e33813d9e44b89d250b98ae9a5f2c",
   "display_name": "Python 3.6.5 64-bit ('venv': venv)"
  }
 },
 "nbformat": 4,
 "nbformat_minor": 2
}